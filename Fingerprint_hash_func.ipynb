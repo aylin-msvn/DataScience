{
  "nbformat": 4,
  "nbformat_minor": 0,
  "metadata": {
    "colab": {
      "provenance": [],
      "authorship_tag": "ABX9TyO9jaKf4gh0K2ihqoitQI2F",
      "include_colab_link": true
    },
    "kernelspec": {
      "name": "python3",
      "display_name": "Python 3"
    },
    "language_info": {
      "name": "python"
    }
  },
  "cells": [
    {
      "cell_type": "markdown",
      "metadata": {
        "id": "view-in-github",
        "colab_type": "text"
      },
      "source": [
        "<a href=\"https://colab.research.google.com/github/aylin-msvn/DataScience/blob/master/Fingerprint_hash_func.ipynb\" target=\"_parent\"><img src=\"https://colab.research.google.com/assets/colab-badge.svg\" alt=\"Open In Colab\"/></a>"
      ]
    },
    {
      "cell_type": "code",
      "execution_count": 1,
      "metadata": {
        "id": "LzLJatZ4t0FL",
        "colab": {
          "base_uri": "https://localhost:8080/"
        },
        "outputId": "1cce233c-6722-4c8a-882f-d7f4bff2ad6e"
      },
      "outputs": [
        {
          "output_type": "stream",
          "name": "stdout",
          "text": [
            "The benzene substructure is mapped to index: 683\n"
          ]
        }
      ],
      "source": [
        "def simple_hash(substructure, fingerprint_size):\n",
        "    # Sum the ASCII values of each character in the substructure string\n",
        "    total = sum(ord(char) for char in substructure)\n",
        "    # Map the total into the range [0, fingerprint_size-1]\n",
        "    return total % fingerprint_size\n",
        "\n",
        "# Example substructure: benzene ring represented as a string\n",
        "substructure = \"C1=CC=CC=C1\"  # a common string for benzene\n",
        "fingerprint_size = 1024\n",
        "\n",
        "# Calculate the index\n",
        "index = simple_hash(substructure, fingerprint_size)\n",
        "print(\"The benzene substructure is mapped to index:\", index)"
      ]
    }
  ]
}